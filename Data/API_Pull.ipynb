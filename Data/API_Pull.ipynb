{
 "cells": [
  {
   "cell_type": "code",
   "execution_count": 1,
   "metadata": {
    "collapsed": true
   },
   "outputs": [],
   "source": [
    "import requests as req\n",
    "import pandas as pd"
   ]
  },
  {
   "cell_type": "code",
   "execution_count": null,
   "metadata": {
    "collapsed": true
   },
   "outputs": [],
   "source": [
    "url_base = \"https://app.ticketmaster.com/discovery/v2/events.json?\"\n",
    "api_key = \"\"\n",
    "country = \"US\"\n",
    "classification =[\"KnvZfZ7vAv6\", \"KnvZfZ7vAvv\", \"KnvZfZ7vAev\", \"KnvZfZ7vAeA\", \"KnvZfZ7vAvt\", \"KnvZfZ7vAvF\", \"KnvZfZ7vAv1\"]\n",
    "classification_name = [\"Country\", \"Alternative\", \"Pop\", \"Rock\", \"Metal\", \"Dance\", \"HipHop\"]\n",
    "startDate = [\"2018-04-01T02:01:00Z\", \"2018-05-01T02:01:00Z\", \"2018-06-01T02:01:00Z\", \"2018-07-01T02:01:00Z\", \n",
    "             \"2018-08-01T02:01:00Z\", \"2018-09-01T02:01:00Z\", \"2018-10-01T02:01:00Z\", \"2018-11-01T02:01:00Z\", \n",
    "             \"2018-12-01T02:01:00Z\", \"2019-01-01T02:01:00Z\", \"2019-02-01T02:01:00Z\", \"2019-03-01T02:01:00Z\"]\n",
    "endDate = [\"2018-04-30T23:00:00Z\", \"2018-05-31T23:00:00Z\", \"2018-06-30T23:00:00Z\", \"2018-07-31T23:00:00Z\", \n",
    "           \"2018-08-31T23:00:00Z\", \"2018-09-30T23:00:00Z\", \"2018-10-31T23:00:00Z\", \"2018-11-30T23:00:00Z\", \n",
    "           \"2018-12-31T23:00:00Z\", \"2019-01-31T23:00:00Z\", \"2019-02-28T23:00:00Z\", \"2019-03-31T23:00:00Z\"]\n",
    "size = [\"25\"]\n",
    "page = [\"0\", \"1\", \"2\", \"3\"]\n",
    "\n",
    "\n",
    "for i in range (0,12): \n",
    "    for j in range (0,4):\n",
    "        emptyList = []\n",
    "        url = \"%sapikey=%s&countryCode=%s&classificationId=%s&startDateTime=%s&endDateTime=%s&size=%s&page=%s\" % \\\n",
    "            (url_base, api_key, country, classification[1], startDate[i], endDate[i], size[0], page[j])\n",
    "        \n",
    "        request = req.get(url).json()\n",
    "        try:\n",
    "            for event in request[\"_embedded\"][\"events\"]:\n",
    "\n",
    "                eventName = event[\"name\"]  \n",
    "                start = event[\"dates\"][\"start\"][\"localDate\"]\n",
    "\n",
    "                if \"priceRanges\" not in event:\n",
    "                    priceLow = \"0\"\n",
    "                    priceHigh = \"0\"\n",
    "\n",
    "                else:\n",
    "                    priceLow = event[\"priceRanges\"][0][\"min\"]\n",
    "                    priceHigh = event[\"priceRanges\"][0][\"max\"]\n",
    "\n",
    "                venueName = event[\"_embedded\"][\"venues\"][0][\"name\"]\n",
    "                venueID = event[\"_embedded\"][\"venues\"][0][\"id\"]\n",
    "                venueLat = event[\"_embedded\"][\"venues\"][0][\"location\"][\"latitude\"]\n",
    "                venueLon = event[\"_embedded\"][\"venues\"][0][\"location\"][\"longitude\"]\n",
    "                genre = event[\"classifications\"][0][\"genre\"][\"name\"]\n",
    "                subGenre = event[\"classifications\"][0][\"subGenre\"][\"name\"]\n",
    "\n",
    "                firstDict = {\"Name\":eventName,\n",
    "                             \"Start Date\": start,\n",
    "                             \"Price Minimum\": priceLow,\n",
    "                             \"Price Maximum\": priceHigh,\n",
    "                             \"Venue\": venueName,\n",
    "                             \"VenueID\": venueID,\n",
    "                             \"Latitude\": venueLat,\n",
    "                             \"Longitude\": venueLon,\n",
    "                             \"Genre\": genre,\n",
    "                             \"Subgenre\": subGenre}\n",
    "\n",
    "                emptyList.append(firstDict)\n",
    "\n",
    "            df = pd.DataFrame(emptyList)\n",
    "            filename=classification_name[1]+str(i)+\"_\"+str(j)\n",
    "            df.to_csv(filename+\".csv\", header=True, index=False)\n",
    "            print(filename+ \" done\")\n",
    "        except:\n",
    "            print(\"skipping\")\n",
    "            print(url)"
   ]
  }
 ],
 "metadata": {
  "kernelspec": {
   "display_name": "Python 3",
   "language": "python",
   "name": "python3"
  },
  "language_info": {
   "codemirror_mode": {
    "name": "ipython",
    "version": 3
   },
   "file_extension": ".py",
   "mimetype": "text/x-python",
   "name": "python",
   "nbconvert_exporter": "python",
   "pygments_lexer": "ipython3",
   "version": "3.6.3"
  }
 },
 "nbformat": 4,
 "nbformat_minor": 2
}
