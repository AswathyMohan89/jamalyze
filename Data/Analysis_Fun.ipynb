{
 "cells": [
  {
   "cell_type": "code",
   "execution_count": 2,
   "metadata": {
    "collapsed": true
   },
   "outputs": [],
   "source": [
    "import pandas as pd"
   ]
  },
  {
   "cell_type": "code",
   "execution_count": 3,
   "metadata": {
    "collapsed": true
   },
   "outputs": [],
   "source": [
    "df = pd.read_csv(\"Added_States.csv\", encoding=\"latin-1\")"
   ]
  },
  {
   "cell_type": "code",
   "execution_count": 4,
   "metadata": {},
   "outputs": [
    {
     "data": {
      "text/html": [
       "<div>\n",
       "<style>\n",
       "    .dataframe thead tr:only-child th {\n",
       "        text-align: right;\n",
       "    }\n",
       "\n",
       "    .dataframe thead th {\n",
       "        text-align: left;\n",
       "    }\n",
       "\n",
       "    .dataframe tbody tr th {\n",
       "        vertical-align: top;\n",
       "    }\n",
       "</style>\n",
       "<table border=\"1\" class=\"dataframe\">\n",
       "  <thead>\n",
       "    <tr style=\"text-align: right;\">\n",
       "      <th></th>\n",
       "      <th>Genre</th>\n",
       "      <th>Latitude</th>\n",
       "      <th>Longitude</th>\n",
       "      <th>Name</th>\n",
       "      <th>Price Maximum</th>\n",
       "      <th>Price Minimum</th>\n",
       "      <th>Start Date</th>\n",
       "      <th>State Code</th>\n",
       "      <th>State Name</th>\n",
       "      <th>Subgenre</th>\n",
       "      <th>Venue</th>\n",
       "      <th>VenueID</th>\n",
       "    </tr>\n",
       "  </thead>\n",
       "  <tbody>\n",
       "    <tr>\n",
       "      <th>0</th>\n",
       "      <td>Alternative</td>\n",
       "      <td>37.770599</td>\n",
       "      <td>-122.444000</td>\n",
       "      <td>G Love &amp; Special Sauce</td>\n",
       "      <td>0.0</td>\n",
       "      <td>0.0</td>\n",
       "      <td>3/31/2018</td>\n",
       "      <td>CA</td>\n",
       "      <td>California</td>\n",
       "      <td>Alternative Rock</td>\n",
       "      <td>The Independent</td>\n",
       "      <td>ZFr9jZ76k7</td>\n",
       "    </tr>\n",
       "    <tr>\n",
       "      <th>1</th>\n",
       "      <td>Alternative</td>\n",
       "      <td>47.602402</td>\n",
       "      <td>-122.325996</td>\n",
       "      <td>Jake Bugg</td>\n",
       "      <td>0.0</td>\n",
       "      <td>0.0</td>\n",
       "      <td>3/31/2018</td>\n",
       "      <td>WA</td>\n",
       "      <td>Washington</td>\n",
       "      <td>Alternative Rock</td>\n",
       "      <td>Showbox at the Market</td>\n",
       "      <td>ZFr9jZekAe</td>\n",
       "    </tr>\n",
       "    <tr>\n",
       "      <th>2</th>\n",
       "      <td>Alternative</td>\n",
       "      <td>39.125599</td>\n",
       "      <td>-106.797203</td>\n",
       "      <td>Spoon</td>\n",
       "      <td>0.0</td>\n",
       "      <td>0.0</td>\n",
       "      <td>3/31/2018</td>\n",
       "      <td>CO</td>\n",
       "      <td>Colorado</td>\n",
       "      <td>Alternative Rock</td>\n",
       "      <td>Belly Up</td>\n",
       "      <td>ZFr9jZAFe7</td>\n",
       "    </tr>\n",
       "    <tr>\n",
       "      <th>3</th>\n",
       "      <td>Alternative</td>\n",
       "      <td>36.124401</td>\n",
       "      <td>-115.145103</td>\n",
       "      <td>Incubus</td>\n",
       "      <td>0.0</td>\n",
       "      <td>0.0</td>\n",
       "      <td>3/31/2018</td>\n",
       "      <td>NV</td>\n",
       "      <td>Nevada</td>\n",
       "      <td>Alternative Rock</td>\n",
       "      <td>The Joint-Hard Rock Las Vegas</td>\n",
       "      <td>Z6r9jZFv7e</td>\n",
       "    </tr>\n",
       "    <tr>\n",
       "      <th>4</th>\n",
       "      <td>Alternative</td>\n",
       "      <td>33.527000</td>\n",
       "      <td>-112.022499</td>\n",
       "      <td>Declan Mckenna</td>\n",
       "      <td>0.0</td>\n",
       "      <td>0.0</td>\n",
       "      <td>3/31/2018</td>\n",
       "      <td>AZ</td>\n",
       "      <td>Arizona</td>\n",
       "      <td>Alternative Rock</td>\n",
       "      <td>The Rebel Lounge</td>\n",
       "      <td>ZFr9jZevek</td>\n",
       "    </tr>\n",
       "  </tbody>\n",
       "</table>\n",
       "</div>"
      ],
      "text/plain": [
       "         Genre   Latitude   Longitude                    Name  Price Maximum  \\\n",
       "0  Alternative  37.770599 -122.444000  G Love & Special Sauce            0.0   \n",
       "1  Alternative  47.602402 -122.325996               Jake Bugg            0.0   \n",
       "2  Alternative  39.125599 -106.797203                   Spoon            0.0   \n",
       "3  Alternative  36.124401 -115.145103                 Incubus            0.0   \n",
       "4  Alternative  33.527000 -112.022499          Declan Mckenna            0.0   \n",
       "\n",
       "   Price Minimum Start Date State Code  State Name          Subgenre  \\\n",
       "0            0.0  3/31/2018         CA  California  Alternative Rock   \n",
       "1            0.0  3/31/2018         WA  Washington  Alternative Rock   \n",
       "2            0.0  3/31/2018         CO    Colorado  Alternative Rock   \n",
       "3            0.0  3/31/2018         NV      Nevada  Alternative Rock   \n",
       "4            0.0  3/31/2018         AZ     Arizona  Alternative Rock   \n",
       "\n",
       "                           Venue     VenueID  \n",
       "0                The Independent  ZFr9jZ76k7  \n",
       "1          Showbox at the Market  ZFr9jZekAe  \n",
       "2                       Belly Up  ZFr9jZAFe7  \n",
       "3  The Joint-Hard Rock Las Vegas  Z6r9jZFv7e  \n",
       "4               The Rebel Lounge  ZFr9jZevek  "
      ]
     },
     "execution_count": 4,
     "metadata": {},
     "output_type": "execute_result"
    }
   ],
   "source": [
    "df.head()"
   ]
  },
  {
   "cell_type": "code",
   "execution_count": 5,
   "metadata": {},
   "outputs": [
    {
     "name": "stdout",
     "output_type": "stream",
     "text": [
      "4405\n"
     ]
    }
   ],
   "source": [
    "# Total number of events in dataset\n",
    "\n",
    "print(len(df))"
   ]
  },
  {
   "cell_type": "code",
   "execution_count": 6,
   "metadata": {
    "collapsed": true
   },
   "outputs": [],
   "source": [
    "# Make a DF without $0 prices\n",
    "\n",
    "df_non = df.loc[df[\"Price Minimum\"] != 0, :]"
   ]
  },
  {
   "cell_type": "code",
   "execution_count": 7,
   "metadata": {},
   "outputs": [
    {
     "name": "stdout",
     "output_type": "stream",
     "text": [
      "3025\n"
     ]
    }
   ],
   "source": [
    "print(len(df_non))"
   ]
  },
  {
   "cell_type": "code",
   "execution_count": 8,
   "metadata": {},
   "outputs": [
    {
     "data": {
      "text/plain": [
       "43.1311140495871"
      ]
     },
     "execution_count": 8,
     "metadata": {},
     "output_type": "execute_result"
    }
   ],
   "source": [
    "# Average price not including zero values\n",
    "\n",
    "df_non[\"Price Minimum\"].mean()"
   ]
  },
  {
   "cell_type": "code",
   "execution_count": 23,
   "metadata": {},
   "outputs": [],
   "source": [
    "# Find the highest and lowest average price by genre\n",
    "\n",
    "grouped_genre = df_non.groupby([\"Genre\"])\n",
    "low = grouped_genre[\"Price Minimum\"].mean()\n",
    "high = grouped_genre[\"Price Maximum\"].mean()"
   ]
  },
  {
   "cell_type": "code",
   "execution_count": 26,
   "metadata": {},
   "outputs": [
    {
     "name": "stdout",
     "output_type": "stream",
     "text": [
      "Genre\n",
      "Country             44.616667\n",
      "Dance/Electronic    28.892181\n",
      "Hip-Hop/Rap         35.215065\n",
      "Metal               34.327520\n",
      "Pop                 54.454646\n",
      "Rock                47.009434\n",
      "Name: Price Minimum, dtype: float64\n",
      "\n",
      "Genre\n",
      "Country             161.328801\n",
      "Dance/Electronic    101.718515\n",
      "Hip-Hop/Rap         120.342839\n",
      "Metal               107.303937\n",
      "Pop                 125.101278\n",
      "Rock                248.057477\n",
      "Name: Price Maximum, dtype: float64\n"
     ]
    }
   ],
   "source": [
    "print(low)\n",
    "print()\n",
    "print(high)"
   ]
  },
  {
   "cell_type": "code",
   "execution_count": 29,
   "metadata": {},
   "outputs": [
    {
     "name": "stdout",
     "output_type": "stream",
     "text": [
      "     Genre   Latitude  Longitude  \\\n",
      "3060   Pop  44.729629 -93.474992   \n",
      "\n",
      "                                               Name  Price Maximum  \\\n",
      "3060  Yanni 25 - Acropolis Anniversary Concert Tour         3200.0   \n",
      "\n",
      "      Price Minimum Start Date State Code State Name            Subgenre  \\\n",
      "3060           40.5   7/1/2018         MN  Minnesota  Adult Contemporary   \n",
      "\n",
      "                         Venue     VenueID  \n",
      "3060  Mystic Lake Casino Hotel  KovZpaoTHe  \n"
     ]
    }
   ],
   "source": [
    "mostExp = df_non[\"Price Maximum\"].max()\n",
    "\n",
    "expEvent = df.loc[df[\"Price Maximum\"] == mostExp, :]\n",
    "print(expEvent)"
   ]
  },
  {
   "cell_type": "code",
   "execution_count": 31,
   "metadata": {},
   "outputs": [],
   "source": [
    "# Make a DF with only Nevada\n",
    "\n",
    "Nevada = df.loc[df[\"State Name\"] == \"Nevada\", :]"
   ]
  },
  {
   "cell_type": "code",
   "execution_count": 32,
   "metadata": {},
   "outputs": [
    {
     "data": {
      "text/html": [
       "<div>\n",
       "<style>\n",
       "    .dataframe thead tr:only-child th {\n",
       "        text-align: right;\n",
       "    }\n",
       "\n",
       "    .dataframe thead th {\n",
       "        text-align: left;\n",
       "    }\n",
       "\n",
       "    .dataframe tbody tr th {\n",
       "        vertical-align: top;\n",
       "    }\n",
       "</style>\n",
       "<table border=\"1\" class=\"dataframe\">\n",
       "  <thead>\n",
       "    <tr style=\"text-align: right;\">\n",
       "      <th></th>\n",
       "      <th>Genre</th>\n",
       "      <th>Latitude</th>\n",
       "      <th>Longitude</th>\n",
       "      <th>Name</th>\n",
       "      <th>Price Maximum</th>\n",
       "      <th>Price Minimum</th>\n",
       "      <th>Start Date</th>\n",
       "      <th>State Code</th>\n",
       "      <th>State Name</th>\n",
       "      <th>Subgenre</th>\n",
       "      <th>Venue</th>\n",
       "      <th>VenueID</th>\n",
       "    </tr>\n",
       "  </thead>\n",
       "  <tbody>\n",
       "    <tr>\n",
       "      <th>2764</th>\n",
       "      <td>Pop</td>\n",
       "      <td>38.962408</td>\n",
       "      <td>-119.939903</td>\n",
       "      <td>Air Supply</td>\n",
       "      <td>68.34</td>\n",
       "      <td>68.34</td>\n",
       "      <td>4/21/2018</td>\n",
       "      <td>NV</td>\n",
       "      <td>Nevada</td>\n",
       "      <td>Adult Contemporary</td>\n",
       "      <td>South Shore Room at Harrah's Lake Tahoe</td>\n",
       "      <td>KovZpZAJaJAA</td>\n",
       "    </tr>\n",
       "    <tr>\n",
       "      <th>2769</th>\n",
       "      <td>Pop</td>\n",
       "      <td>36.109617</td>\n",
       "      <td>-115.172471</td>\n",
       "      <td>Pitbull</td>\n",
       "      <td>149.00</td>\n",
       "      <td>49.00</td>\n",
       "      <td>4/27/2018</td>\n",
       "      <td>NV</td>\n",
       "      <td>Nevada</td>\n",
       "      <td>Pop</td>\n",
       "      <td>Zappos Theater at Planet Hollywood</td>\n",
       "      <td>KovZpZAJalEA</td>\n",
       "    </tr>\n",
       "    <tr>\n",
       "      <th>2776</th>\n",
       "      <td>Pop</td>\n",
       "      <td>36.109617</td>\n",
       "      <td>-115.172471</td>\n",
       "      <td>Pitbull</td>\n",
       "      <td>159.00</td>\n",
       "      <td>59.00</td>\n",
       "      <td>4/28/2018</td>\n",
       "      <td>NV</td>\n",
       "      <td>Nevada</td>\n",
       "      <td>Pop</td>\n",
       "      <td>Zappos Theater at Planet Hollywood</td>\n",
       "      <td>KovZpZAJalEA</td>\n",
       "    </tr>\n",
       "    <tr>\n",
       "      <th>2797</th>\n",
       "      <td>Pop</td>\n",
       "      <td>36.113765</td>\n",
       "      <td>-115.168899</td>\n",
       "      <td>Wayne Newton Up Close And Personal</td>\n",
       "      <td>178.00</td>\n",
       "      <td>71.00</td>\n",
       "      <td>4/2/2018</td>\n",
       "      <td>NV</td>\n",
       "      <td>Nevada</td>\n",
       "      <td>Adult Contemporary</td>\n",
       "      <td>Windows at Bally's Las Vegas</td>\n",
       "      <td>KovZpZAJalFA</td>\n",
       "    </tr>\n",
       "    <tr>\n",
       "      <th>2798</th>\n",
       "      <td>Pop</td>\n",
       "      <td>36.113765</td>\n",
       "      <td>-115.168899</td>\n",
       "      <td>Wayne Newton Up Close And Personal</td>\n",
       "      <td>178.00</td>\n",
       "      <td>71.00</td>\n",
       "      <td>4/3/2018</td>\n",
       "      <td>NV</td>\n",
       "      <td>Nevada</td>\n",
       "      <td>Adult Contemporary</td>\n",
       "      <td>Windows at Bally's Las Vegas</td>\n",
       "      <td>KovZpZAJalFA</td>\n",
       "    </tr>\n",
       "  </tbody>\n",
       "</table>\n",
       "</div>"
      ],
      "text/plain": [
       "     Genre   Latitude   Longitude                                Name  \\\n",
       "2764   Pop  38.962408 -119.939903                          Air Supply   \n",
       "2769   Pop  36.109617 -115.172471                             Pitbull   \n",
       "2776   Pop  36.109617 -115.172471                             Pitbull   \n",
       "2797   Pop  36.113765 -115.168899  Wayne Newton Up Close And Personal   \n",
       "2798   Pop  36.113765 -115.168899  Wayne Newton Up Close And Personal   \n",
       "\n",
       "      Price Maximum  Price Minimum Start Date State Code State Name  \\\n",
       "2764          68.34          68.34  4/21/2018         NV     Nevada   \n",
       "2769         149.00          49.00  4/27/2018         NV     Nevada   \n",
       "2776         159.00          59.00  4/28/2018         NV     Nevada   \n",
       "2797         178.00          71.00   4/2/2018         NV     Nevada   \n",
       "2798         178.00          71.00   4/3/2018         NV     Nevada   \n",
       "\n",
       "                Subgenre                                    Venue  \\\n",
       "2764  Adult Contemporary  South Shore Room at Harrah's Lake Tahoe   \n",
       "2769                 Pop       Zappos Theater at Planet Hollywood   \n",
       "2776                 Pop       Zappos Theater at Planet Hollywood   \n",
       "2797  Adult Contemporary             Windows at Bally's Las Vegas   \n",
       "2798  Adult Contemporary             Windows at Bally's Las Vegas   \n",
       "\n",
       "           VenueID  \n",
       "2764  KovZpZAJaJAA  \n",
       "2769  KovZpZAJalEA  \n",
       "2776  KovZpZAJalEA  \n",
       "2797  KovZpZAJalFA  \n",
       "2798  KovZpZAJalFA  "
      ]
     },
     "execution_count": 32,
     "metadata": {},
     "output_type": "execute_result"
    }
   ],
   "source": [
    "# Find only the Pop events\n",
    "\n",
    "popNev = Nevada.loc[df[\"Genre\"] == \"Pop\", :]\n",
    "popNev.head()"
   ]
  },
  {
   "cell_type": "code",
   "execution_count": 41,
   "metadata": {},
   "outputs": [],
   "source": [
    "# Count of events by their name\n",
    "\n",
    "Events = popNev.groupby([\"Name\"]).count()"
   ]
  },
  {
   "cell_type": "code",
   "execution_count": 42,
   "metadata": {},
   "outputs": [
    {
     "name": "stdout",
     "output_type": "stream",
     "text": [
      "                                               Genre  Latitude  Longitude  \\\n",
      "Name                                                                        \n",
      "Air Supply                                         7         7          7   \n",
      "Frank Marino's Divas                             202       202        202   \n",
      "Human Nature                                      72        72         72   \n",
      "Kesha w/ Macklemore                                1         1          1   \n",
      "Paul Anka                                          4         4          4   \n",
      "Pitbull                                            9         9          9   \n",
      "RICKY MARTIN: LAS VEGAS RESIDENCY                  7         7          7   \n",
      "Rod Stewart                                        1         1          1   \n",
      "Tony Orlando                                       3         3          3   \n",
      "Wayne Newton Up Close And Personal                40        40         40   \n",
      "Yanni 25 - Acropolis Anniversary Concert Tour      1         1          1   \n",
      "\n",
      "                                               Price Maximum  Price Minimum  \\\n",
      "Name                                                                          \n",
      "Air Supply                                                 7              7   \n",
      "Frank Marino's Divas                                     202            202   \n",
      "Human Nature                                              72             72   \n",
      "Kesha w/ Macklemore                                        1              1   \n",
      "Paul Anka                                                  4              4   \n",
      "Pitbull                                                    9              9   \n",
      "RICKY MARTIN: LAS VEGAS RESIDENCY                          7              7   \n",
      "Rod Stewart                                                1              1   \n",
      "Tony Orlando                                               3              3   \n",
      "Wayne Newton Up Close And Personal                        40             40   \n",
      "Yanni 25 - Acropolis Anniversary Concert Tour              1              1   \n",
      "\n",
      "                                               Start Date  State Code  \\\n",
      "Name                                                                    \n",
      "Air Supply                                              7           7   \n",
      "Frank Marino's Divas                                  202         202   \n",
      "Human Nature                                           72          72   \n",
      "Kesha w/ Macklemore                                     1           1   \n",
      "Paul Anka                                               4           4   \n",
      "Pitbull                                                 9           9   \n",
      "RICKY MARTIN: LAS VEGAS RESIDENCY                       7           7   \n",
      "Rod Stewart                                             1           1   \n",
      "Tony Orlando                                            3           3   \n",
      "Wayne Newton Up Close And Personal                     40          40   \n",
      "Yanni 25 - Acropolis Anniversary Concert Tour           1           1   \n",
      "\n",
      "                                               State Name  Subgenre  Venue  \\\n",
      "Name                                                                         \n",
      "Air Supply                                              7         7      7   \n",
      "Frank Marino's Divas                                  202       202    202   \n",
      "Human Nature                                           72        72     72   \n",
      "Kesha w/ Macklemore                                     1         1      1   \n",
      "Paul Anka                                               4         4      4   \n",
      "Pitbull                                                 9         9      9   \n",
      "RICKY MARTIN: LAS VEGAS RESIDENCY                       7         7      7   \n",
      "Rod Stewart                                             1         1      1   \n",
      "Tony Orlando                                            3         3      3   \n",
      "Wayne Newton Up Close And Personal                     40        40     40   \n",
      "Yanni 25 - Acropolis Anniversary Concert Tour           1         1      1   \n",
      "\n",
      "                                               VenueID  \n",
      "Name                                                    \n",
      "Air Supply                                           7  \n",
      "Frank Marino's Divas                               202  \n",
      "Human Nature                                        72  \n",
      "Kesha w/ Macklemore                                  1  \n",
      "Paul Anka                                            4  \n",
      "Pitbull                                              9  \n",
      "RICKY MARTIN: LAS VEGAS RESIDENCY                    7  \n",
      "Rod Stewart                                          1  \n",
      "Tony Orlando                                         3  \n",
      "Wayne Newton Up Close And Personal                  40  \n",
      "Yanni 25 - Acropolis Anniversary Concert Tour        1  \n"
     ]
    }
   ],
   "source": [
    "# Print out the counts of events in Nevada and find hte recurring shows\n",
    "\n",
    "print(Events)"
   ]
  }
 ],
 "metadata": {
  "kernelspec": {
   "display_name": "Python 3",
   "language": "python",
   "name": "python3"
  },
  "language_info": {
   "codemirror_mode": {
    "name": "ipython",
    "version": 3
   },
   "file_extension": ".py",
   "mimetype": "text/x-python",
   "name": "python",
   "nbconvert_exporter": "python",
   "pygments_lexer": "ipython3",
   "version": "3.6.3"
  }
 },
 "nbformat": 4,
 "nbformat_minor": 2
}
