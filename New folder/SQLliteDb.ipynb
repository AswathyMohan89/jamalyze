{
 "cells": [
  {
   "cell_type": "code",
   "execution_count": 1,
   "metadata": {
    "collapsed": true
   },
   "outputs": [],
   "source": [
    "#import dependencies\n",
    "from sqlalchemy import create_engine\n",
    "from sqlalchemy.ext.declarative import declarative_base\n",
    "from sqlalchemy import create_engine\n",
    "from sqlalchemy.orm import Session\n",
    "import pandas as pd\n",
    "import os\n",
    "# Allow us to declare column types\n",
    "from sqlalchemy import Column, Integer, String, Float,ForeignKey \n",
    "\n",
    "import pymysql\n",
    "pymysql.install_as_MySQLdb()"
   ]
  },
  {
   "cell_type": "code",
   "execution_count": 2,
   "metadata": {},
   "outputs": [
    {
     "data": {
      "text/html": [
       "<div>\n",
       "<style>\n",
       "    .dataframe thead tr:only-child th {\n",
       "        text-align: right;\n",
       "    }\n",
       "\n",
       "    .dataframe thead th {\n",
       "        text-align: left;\n",
       "    }\n",
       "\n",
       "    .dataframe tbody tr th {\n",
       "        vertical-align: top;\n",
       "    }\n",
       "</style>\n",
       "<table border=\"1\" class=\"dataframe\">\n",
       "  <thead>\n",
       "    <tr style=\"text-align: right;\">\n",
       "      <th></th>\n",
       "      <th>Genre</th>\n",
       "      <th>Latitude</th>\n",
       "      <th>Longitude</th>\n",
       "      <th>Name</th>\n",
       "      <th>PriceMaximum</th>\n",
       "      <th>PriceMinimum</th>\n",
       "      <th>StartDate</th>\n",
       "      <th>Subgenre</th>\n",
       "      <th>Venue</th>\n",
       "      <th>VenueID</th>\n",
       "    </tr>\n",
       "  </thead>\n",
       "  <tbody>\n",
       "    <tr>\n",
       "      <th>0</th>\n",
       "      <td>Pop</td>\n",
       "      <td>44.729629</td>\n",
       "      <td>-93.474992</td>\n",
       "      <td>Yanni 25 - Acropolis Anniversary Concert Tour</td>\n",
       "      <td>3200.0</td>\n",
       "      <td>40.5</td>\n",
       "      <td>7/1/18</td>\n",
       "      <td>Adult Contemporary</td>\n",
       "      <td>Mystic Lake Casino Hotel</td>\n",
       "      <td>KovZpaoTHe</td>\n",
       "    </tr>\n",
       "    <tr>\n",
       "      <th>1</th>\n",
       "      <td>Metal</td>\n",
       "      <td>47.910614</td>\n",
       "      <td>-97.090993</td>\n",
       "      <td>Metallica - WorldWired Tour</td>\n",
       "      <td>2499.0</td>\n",
       "      <td>62.0</td>\n",
       "      <td>9/8/18</td>\n",
       "      <td>Heavy Metal</td>\n",
       "      <td>Alerus Center</td>\n",
       "      <td>KovZpZA7keEA</td>\n",
       "    </tr>\n",
       "    <tr>\n",
       "      <th>2</th>\n",
       "      <td>Metal</td>\n",
       "      <td>43.603580</td>\n",
       "      <td>-116.199107</td>\n",
       "      <td>Metallica - WorldWired Tour</td>\n",
       "      <td>2499.0</td>\n",
       "      <td>63.0</td>\n",
       "      <td>11/28/18</td>\n",
       "      <td>Heavy Metal</td>\n",
       "      <td>Taco Bell Arena</td>\n",
       "      <td>KovZpZAEetIA</td>\n",
       "    </tr>\n",
       "    <tr>\n",
       "      <th>3</th>\n",
       "      <td>Metal</td>\n",
       "      <td>33.523653</td>\n",
       "      <td>-86.813768</td>\n",
       "      <td>Metallica - WorldWired Tour</td>\n",
       "      <td>2499.0</td>\n",
       "      <td>93.0</td>\n",
       "      <td>1/22/19</td>\n",
       "      <td>Heavy Metal</td>\n",
       "      <td>Legacy Arena at The BJCC</td>\n",
       "      <td>KovZpZA6t76A</td>\n",
       "    </tr>\n",
       "    <tr>\n",
       "      <th>4</th>\n",
       "      <td>Hip-Hop/Rap</td>\n",
       "      <td>44.973208</td>\n",
       "      <td>-93.255966</td>\n",
       "      <td>JAY-Z and BEYONCÉ - OTR II</td>\n",
       "      <td>1993.0</td>\n",
       "      <td>20.0</td>\n",
       "      <td>8/8/18</td>\n",
       "      <td>Urban</td>\n",
       "      <td>U.S. Bank Stadium</td>\n",
       "      <td>KovZpZAF6ttA</td>\n",
       "    </tr>\n",
       "  </tbody>\n",
       "</table>\n",
       "</div>"
      ],
      "text/plain": [
       "         Genre   Latitude   Longitude  \\\n",
       "0          Pop  44.729629  -93.474992   \n",
       "1        Metal  47.910614  -97.090993   \n",
       "2        Metal  43.603580 -116.199107   \n",
       "3        Metal  33.523653  -86.813768   \n",
       "4  Hip-Hop/Rap  44.973208  -93.255966   \n",
       "\n",
       "                                            Name  PriceMaximum  PriceMinimum  \\\n",
       "0  Yanni 25 - Acropolis Anniversary Concert Tour        3200.0          40.5   \n",
       "1                    Metallica - WorldWired Tour        2499.0          62.0   \n",
       "2                    Metallica - WorldWired Tour        2499.0          63.0   \n",
       "3                    Metallica - WorldWired Tour        2499.0          93.0   \n",
       "4                     JAY-Z and BEYONCÉ - OTR II        1993.0          20.0   \n",
       "\n",
       "  StartDate            Subgenre                     Venue       VenueID  \n",
       "0    7/1/18  Adult Contemporary  Mystic Lake Casino Hotel    KovZpaoTHe  \n",
       "1    9/8/18         Heavy Metal             Alerus Center  KovZpZA7keEA  \n",
       "2  11/28/18         Heavy Metal           Taco Bell Arena  KovZpZAEetIA  \n",
       "3   1/22/19         Heavy Metal  Legacy Arena at The BJCC  KovZpZA6t76A  \n",
       "4    8/8/18               Urban         U.S. Bank Stadium  KovZpZAF6ttA  "
      ]
     },
     "execution_count": 2,
     "metadata": {},
     "output_type": "execute_result"
    }
   ],
   "source": [
    "data_df=pd.read_csv(\"Data.csv\",low_memory=False)\n",
    "\n",
    "data_df=data_df.rename(columns={\"Price Maximum\": \"PriceMaximum\", \"Price Minimum\": \"PriceMinimum\",\"Start Date\":\"StartDate\"})\n",
    "data_df=data_df.drop(['Unnamed: 10'], axis=1)\n",
    "data_df.head()"
   ]
  },
  {
   "cell_type": "code",
   "execution_count": 3,
   "metadata": {
    "collapsed": true
   },
   "outputs": [],
   "source": [
    "#declare the base\n",
    "Base=declarative_base()\n",
    "\n",
    "#declare classes and attributes\n",
    "class Events(Base):\n",
    "    \n",
    "    __tablename__=\"Events\"\n",
    "    id=Column(Integer,primary_key=True)\n",
    "    genre=Column(String(255))\n",
    "    Latitude = Column(Float)\n",
    "    Longitude = Column(Float)\n",
    "    Name=Column(String(255))\n",
    "    PriceMaximum = Column(Float)\n",
    "    PriceMinimum = Column(Float)\n",
    "    \n",
    "    StartDate=Column(String(255))\n",
    "    Subgenre = Column(String(255))\n",
    "    Venue = Column(String(255))\n",
    "    VenueID = Column(String(255))\n",
    "    \n",
    "   "
   ]
  },
  {
   "cell_type": "code",
   "execution_count": 4,
   "metadata": {
    "collapsed": true
   },
   "outputs": [],
   "source": [
    "engine = create_engine(os.path.join(\"sqlite:///EventsDB.db\"))\n",
    "conn = engine.connect()\n",
    "Base.metadata.create_all(conn)\n",
    "session = Session(bind=engine)"
   ]
  },
  {
   "cell_type": "code",
   "execution_count": 5,
   "metadata": {
    "collapsed": true
   },
   "outputs": [],
   "source": [
    "data_df.to_sql('Events',conn,if_exists = 'append',index = False)\n",
    "session.commit()\n",
    "\n",
    "conn.close()"
   ]
  },
  {
   "cell_type": "code",
   "execution_count": null,
   "metadata": {
    "collapsed": true
   },
   "outputs": [],
   "source": []
  }
 ],
 "metadata": {
  "kernelspec": {
   "display_name": "Python 3",
   "language": "python",
   "name": "python3"
  },
  "language_info": {
   "codemirror_mode": {
    "name": "ipython",
    "version": 3
   },
   "file_extension": ".py",
   "mimetype": "text/x-python",
   "name": "python",
   "nbconvert_exporter": "python",
   "pygments_lexer": "ipython3",
   "version": "3.6.3"
  }
 },
 "nbformat": 4,
 "nbformat_minor": 2
}
