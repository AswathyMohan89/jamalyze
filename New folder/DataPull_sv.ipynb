{
 "cells": [
  {
   "cell_type": "code",
   "execution_count": 29,
   "metadata": {
    "collapsed": true
   },
   "outputs": [],
   "source": [
    "# Dependencies\n",
    "import requests as req\n",
    "import json\n",
    "import pandas as pd\n",
    "\n",
    "# URL for GET requests to retrieve vehicle data\n",
    "# url = \"https://app.ticketmaster.com/discovery/v2/events.json?apikey=cBhKvlTd70S9SUAsYUuNyhEmmk8Obkgm&countryCode=US&classificationId=KnvZfZ7vAv6&startDateTime=2018-04-01T02:01:00Z&endDateTime=2018-04-30T23:00:00Z&size=25&page=0\""
   ]
  },
  {
   "cell_type": "code",
   "execution_count": 82,
   "metadata": {},
   "outputs": [
    {
     "ename": "KeyError",
     "evalue": "'_embedded'",
     "output_type": "error",
     "traceback": [
      "\u001b[1;31m---------------------------------------------------------------------------\u001b[0m",
      "\u001b[1;31mKeyError\u001b[0m                                  Traceback (most recent call last)",
      "\u001b[1;32m<ipython-input-82-4dad906eca53>\u001b[0m in \u001b[0;36m<module>\u001b[1;34m()\u001b[0m\n\u001b[0;32m     19\u001b[0m \u001b[0mrequest\u001b[0m \u001b[1;33m=\u001b[0m \u001b[0mreq\u001b[0m\u001b[1;33m.\u001b[0m\u001b[0mget\u001b[0m\u001b[1;33m(\u001b[0m\u001b[0murl\u001b[0m\u001b[1;33m)\u001b[0m\u001b[1;33m.\u001b[0m\u001b[0mjson\u001b[0m\u001b[1;33m(\u001b[0m\u001b[1;33m)\u001b[0m\u001b[1;33m\u001b[0m\u001b[0m\n\u001b[0;32m     20\u001b[0m \u001b[1;33m\u001b[0m\u001b[0m\n\u001b[1;32m---> 21\u001b[1;33m \u001b[1;32mfor\u001b[0m \u001b[0mevent\u001b[0m \u001b[1;32min\u001b[0m \u001b[0mrequest\u001b[0m\u001b[1;33m[\u001b[0m\u001b[1;34m\"_embedded\"\u001b[0m\u001b[1;33m]\u001b[0m\u001b[1;33m[\u001b[0m\u001b[1;34m\"events\"\u001b[0m\u001b[1;33m]\u001b[0m\u001b[1;33m:\u001b[0m\u001b[1;33m\u001b[0m\u001b[0m\n\u001b[0m\u001b[0;32m     22\u001b[0m \u001b[1;33m\u001b[0m\u001b[0m\n\u001b[0;32m     23\u001b[0m     \u001b[0meventName\u001b[0m \u001b[1;33m=\u001b[0m \u001b[0mevent\u001b[0m\u001b[1;33m[\u001b[0m\u001b[1;34m\"name\"\u001b[0m\u001b[1;33m]\u001b[0m\u001b[1;33m\u001b[0m\u001b[0m\n",
      "\u001b[1;31mKeyError\u001b[0m: '_embedded'"
     ]
    }
   ],
   "source": [
    "url_base = \"https://app.ticketmaster.com/discovery/v2/events.json?\"\n",
    "api_key = \"iWkUujcu8JontDFFfSfMKIMtXgRdA2yB\"\n",
    "country = \"US\"\n",
    "classification =[\"KnvZfZ7vAv6\", \"KnvZfZ7vAvv\", \"KnvZfZ7vAev\", \"KnvZfZ7vAeA\", \"KnvZfZ7vAvt\", \"KnvZfZ7vAvF\", \"KnvZfZ7vAv1\"]\n",
    "classification_name = [\"name\",\"Country\", \"Alternative\", \"Pop\", \"Rock\", \"Metal\", \"Dance\", \"HipHop\"]\n",
    "startDate = [\"2018-04-01T02:01:00Z\", \"2018-05-01T02:01:00Z\", \"2018-06-01T02:01:00Z\", \"2018-07-01T02:01:00Z\", \n",
    "             \"2018-08-01T02:01:00Z\", \"2018-09-01T02:01:00Z\", \"2018-10-01T02:01:00Z\", \"2018-11-01T02:01:00Z\", \n",
    "             \"2018-12-01T02:01:00Z\", \"2019-01-01T02:01:00Z\", \"2019-02-01T02:01:00Z\", \"2019-03-01T02:01:00Z\"]\n",
    "endDate = [\"2018-04-30T23:00:00Z\", \"2018-05-31T23:00:00Z\", \"2018-06-30T23:00:00Z\", \"2018-07-31T23:00:00Z\", \n",
    "           \"2018-08-31T23:00:00Z\", \"2018-09-30T23:00:00Z\", \"2018-10-31T23:00:00Z\", \"2018-11-30T23:00:00Z\", \n",
    "           \"2018-12-31T23:00:00Z\", \"2019-01-31T23:00:00Z\", \"2019-02-28T23:00:00Z\", \"2019-03-31T23:00:00Z\"]\n",
    "size = [\"25\"]\n",
    "page = [\"0\", \"1\", \"2\", \"3\"]\n",
    "\n",
    "emptyList = []\n",
    "    \n",
    "url = \"%sapikey=%s&countryCode=%s&classificationId=%s&startDateTime=%s&endDateTime=%s&size=%s&page=%s\" % \\\n",
    "    (url_base, api_key, country, classification[0], startDate[11], endDate[11], size[0], page[3])\n",
    "    \n",
    "request = req.get(url).json()\n",
    "    \n",
    "for event in request[\"_embedded\"][\"events\"]:\n",
    "\n",
    "    eventName = event[\"name\"]  \n",
    "    start = event[\"dates\"][\"start\"][\"localDate\"]\n",
    "\n",
    "    if \"priceRanges\" not in event:\n",
    "    \n",
    "        priceLow = \"0\"\n",
    "        priceHigh = \"0\"\n",
    "\n",
    "    else:\n",
    "        priceLow = event[\"priceRanges\"][0][\"min\"]\n",
    "        priceHigh = event[\"priceRanges\"][0][\"max\"]\n",
    "\n",
    "        venueName = event[\"_embedded\"][\"venues\"][0][\"name\"]\n",
    "        venueID = event[\"_embedded\"][\"venues\"][0][\"id\"]\n",
    "        venueLat = event[\"_embedded\"][\"venues\"][0][\"location\"][\"latitude\"]\n",
    "        venueLon = event[\"_embedded\"][\"venues\"][0][\"location\"][\"longitude\"]\n",
    "        genre = event[\"classifications\"][0][\"genre\"][\"name\"]\n",
    "        subGenre = event[\"classifications\"][0][\"subGenre\"][\"name\"]\n",
    "\n",
    "        firstDict = {\"Name\": eventName,\n",
    "                     \"Start Date\": start,\n",
    "                     \"Price Minimum\": priceLow,\n",
    "                     \"Price Maximum\": priceHigh,\n",
    "                     \"Venue\": venueName,\n",
    "                     \"VenueID\": venueID,\n",
    "                     \"Latitude\": venueLat,\n",
    "                     \"Longitude\": venueLon,\n",
    "                     \"Genre\": genre,\n",
    "                     \"Subgenre\": subGenre}\n",
    "\n",
    "        emptyList.append(firstDict)\n",
    "    \n",
    "        df = pd.DataFrame(emptyList)\n",
    "\n",
    "        df.to_csv(\"CountryDate11_3.csv\", header=True, index=False)\n",
    "\n",
    "\n",
    "\n"
   ]
  },
  {
   "cell_type": "code",
   "execution_count": null,
   "metadata": {
    "collapsed": true
   },
   "outputs": [],
   "source": []
  }
 ],
 "metadata": {
  "kernelspec": {
   "display_name": "Python 3",
   "language": "python",
   "name": "python3"
  },
  "language_info": {
   "codemirror_mode": {
    "name": "ipython",
    "version": 3
   },
   "file_extension": ".py",
   "mimetype": "text/x-python",
   "name": "python",
   "nbconvert_exporter": "python",
   "pygments_lexer": "ipython3",
   "version": "3.6.3"
  }
 },
 "nbformat": 4,
 "nbformat_minor": 2
}
